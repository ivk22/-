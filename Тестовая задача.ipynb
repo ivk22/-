{
 "cells": [
  {
   "cell_type": "code",
   "execution_count": 1,
   "metadata": {},
   "outputs": [],
   "source": [
    "import pandas as pd\n",
    "import numpy as np\n",
    "import random\n",
    "import copy\n",
    "import unittest"
   ]
  },
  {
   "cell_type": "markdown",
   "metadata": {},
   "source": [
    "#### Определим \"популярность\" товара, как его проданный совокупный объем в штуках. С таким определением таблица orders является излишней для выполнения поставленной задачи. "
   ]
  },
  {
   "cell_type": "code",
   "execution_count": 2,
   "metadata": {},
   "outputs": [],
   "source": [
    "def BuildReport(orderLines,numproducts=10):\n",
    "    if type(orderLines)!=type(pd.DataFrame()):\n",
    "        raise TypeError\n",
    "    \n",
    "\n",
    "    if list(orderLines.columns)!=[\"OrderId\",\"ProductId\",\"Price\"]:\n",
    "        raise Exception(\"InputError\")\n",
    "    \n",
    "    if not orderLines.empty:\n",
    "        # numproducts - число наиболее популярных продуктов, которое необходимо представить в отчете\n",
    "\n",
    "        data = copy.deepcopy(orderLines)\n",
    "\n",
    "        # Рассчитаем сумму каждого заказа:\n",
    "        Order_Revenue=data.groupby([\"OrderId\"])[[\"Price\"]].sum().reset_index()\n",
    "        Order_Revenue.columns=[\"OrderId\",\"Order_Revenue\"]\n",
    "        data=data.merge(Order_Revenue,on=[\"OrderId\"])\n",
    "\n",
    "        # Рассчитаем средний чек. Для каждого товара определим среднюю сумму заказа, в котором он присутствовал.\n",
    "        # Первый groupby необходим для того, чтобы правильно учитывать заказы, \n",
    "        # в которых один и тот же товар присутствовал несколько раз:\n",
    "        Average_Bill=data.groupby([\"ProductId\",\"OrderId\"])[[\"Order_Revenue\"]].max().reset_index()\\\n",
    "        .groupby(\"ProductId\")[[\"Order_Revenue\"]].mean().reset_index()\n",
    "        Average_Bill.columns=[\"ProductId\",\"Average_Bill\"]\n",
    "        data=data.merge(Average_Bill,on=[\"ProductId\"])\n",
    "\n",
    "        # Выберем первые numproducts товаров для формирования отчета. Product_count - объем продажи данного товара (шт.),\n",
    "        # Total_Revenue - объем продажи данного товара (руб.), Average_Bill - средний чек.\n",
    "        res=data.groupby(\"ProductId\").agg({\"ProductId\":[\"count\"],\"Price\":[\"sum\"],\"Average_Bill\":[\"max\"]}).reset_index()\n",
    "        res.columns=[\"ProductId\",\"Product_count\",\"Total_Revenue\",\"Average_Bill\"]\n",
    "        res.sort_values(by=[\"Product_count\"],ascending=False,inplace=True)\n",
    "\n",
    "        return res.iloc[:numproducts,:]\n",
    "    else:\n",
    "        return pd.DataFrame(columns=[\"ProductId\",\"Product_count\",\"Total_Revenue\",\"Average_Bill\"])\n"
   ]
  },
  {
   "cell_type": "code",
   "execution_count": 3,
   "metadata": {},
   "outputs": [],
   "source": [
    "class Test(unittest.TestCase):\n",
    "\n",
    "    def test_type_mismatch(self):\n",
    "        with self.assertRaises(TypeError):\n",
    "            BuildReport(7)\n",
    "    \n",
    "    def test_input_mismatch(self):\n",
    "        temp = pd.DataFrame(columns=[\"ProductId\",\"Price\"])\n",
    "        with self.assertRaises(Exception):\n",
    "            BuildReport(temp)\n",
    "            \n",
    "    def test_empty(self):\n",
    "        temp = pd.DataFrame(columns=[\"OrderId\",\"ProductId\",\"Price\"])\n",
    "        res=BuildReport(temp).to_dict()\n",
    "        target=pd.DataFrame(columns=[\"ProductId\",\"Product_count\",\"Total_Revenue\",\"Average_Bill\"]).to_dict()\n",
    "        self.assertEqual(res,target)\n",
    "        \n",
    "    def test_single(self):\n",
    "        temp = pd.DataFrame(data=np.array([1,1,1]).reshape((1,3)) ,columns=[\"OrderId\",\"ProductId\",\"Price\"])\n",
    "        res=BuildReport(temp).to_dict()\n",
    "        target=pd.DataFrame(data=np.array([1,1,1,1]).reshape((1,4)) \n",
    "        ,columns=[\"ProductId\",\"Product_count\",\"Total_Revenue\",\"Average_Bill\"]).to_dict()\n",
    "        self.assertEqual(res,target)\n",
    "\n",
    "    def test_normal(self):\n",
    "        \n",
    "        orders=[x for x in range(1,1001)]\n",
    "        products=[x for x in range(1,1001)]\n",
    "        prices=[10 for x in range(1,1001)]\n",
    "        \n",
    "        temp = pd.DataFrame(data=np.array([orders,products,prices]).T ,columns=[\"OrderId\",\"ProductId\",\"Price\"])\n",
    "        \n",
    "        res=BuildReport(temp).to_dict()\n",
    "        \n",
    "        prod_counts=[1 for x in range(1,1001)]\n",
    "        revenues = [10 for x in range(1,1001)]\n",
    "        bills=[10 for x in range(1,1001)]\n",
    "        \n",
    "        res=BuildReport(temp,1000).to_dict()\n",
    "        target=pd.DataFrame(data=np.array([products,prod_counts,revenues,bills]).T \n",
    "        ,columns=[\"ProductId\",\"Product_count\",\"Total_Revenue\",\"Average_Bill\"]).to_dict()\n",
    "        self.assertEqual(res,target)"
   ]
  },
  {
   "cell_type": "code",
   "execution_count": null,
   "metadata": {},
   "outputs": [],
   "source": []
  },
  {
   "cell_type": "code",
   "execution_count": null,
   "metadata": {},
   "outputs": [],
   "source": []
  },
  {
   "cell_type": "code",
   "execution_count": null,
   "metadata": {},
   "outputs": [],
   "source": []
  }
 ],
 "metadata": {
  "kernelspec": {
   "display_name": "Python 3",
   "language": "python",
   "name": "python3"
  },
  "language_info": {
   "codemirror_mode": {
    "name": "ipython",
    "version": 3
   },
   "file_extension": ".py",
   "mimetype": "text/x-python",
   "name": "python",
   "nbconvert_exporter": "python",
   "pygments_lexer": "ipython3",
   "version": "3.6.8"
  }
 },
 "nbformat": 4,
 "nbformat_minor": 2
}
